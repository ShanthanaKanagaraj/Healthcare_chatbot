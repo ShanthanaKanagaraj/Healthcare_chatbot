{
 "cells": [
  {
   "cell_type": "code",
   "execution_count": 44,
   "id": "f0d9718a",
   "metadata": {},
   "outputs": [],
   "source": [
    "import nltk\n",
    "import warnings\n",
    "warnings.filterwarnings(\"ignore\")\n",
    "\n",
    "\n",
    "# nltk.download() # for downloading packages\n",
    "\n",
    "import numpy as np\n",
    "import random\n",
    "import string "
   ]
  },
  {
   "cell_type": "code",
   "execution_count": 45,
   "id": "a5f5c43c",
   "metadata": {},
   "outputs": [
    {
     "name": "stderr",
     "output_type": "stream",
     "text": [
      "[nltk_data] Downloading package punkt to\n",
      "[nltk_data]     C:\\Users\\nishanthi\\AppData\\Roaming\\nltk_data...\n",
      "[nltk_data]   Package punkt is already up-to-date!\n",
      "[nltk_data] Downloading package wordnet to\n",
      "[nltk_data]     C:\\Users\\nishanthi\\AppData\\Roaming\\nltk_data...\n",
      "[nltk_data]   Package wordnet is already up-to-date!\n"
     ]
    },
    {
     "data": {
      "text/plain": [
       "True"
      ]
     },
     "execution_count": 45,
     "metadata": {},
     "output_type": "execute_result"
    }
   ],
   "source": [
    "f=open('symptom.txt','r',errors = 'ignore')\n",
    "\n",
    "checkpoint = \"./chatbot_weights.ckpt\"\n",
    "#session = tf.InteractiveSession()\n",
    "#session.run(tf.global_variables_initializer())\n",
    "#saver = tf.train.Saver()\n",
    "#saver.restore(session, checkpoint)\n",
    "\n",
    "raw=f.read()\n",
    "raw=raw.lower()# converts to lowercase\n",
    "\n",
    "\n",
    "\n",
    "nltk.download('punkt') # first-time use only\n",
    "nltk.download('wordnet') # first-time use only"
   ]
  },
  {
   "cell_type": "code",
   "execution_count": 46,
   "id": "aeba2baa",
   "metadata": {},
   "outputs": [],
   "source": [
    "sent_tokens = nltk.sent_tokenize(raw)# converts to list of sentences \n",
    "word_tokens = nltk.word_tokenize(raw)# converts to list of words\n"
   ]
  },
  {
   "cell_type": "code",
   "execution_count": 47,
   "id": "da80ffa6",
   "metadata": {},
   "outputs": [
    {
     "data": {
      "text/plain": [
       "[\"\\nstopped growth :-->  \\npred_diseases:'growth disorder, turner syndrome',\\nanalgesics: 'thyroid hormone pills, growth hormone injections', \\ntreatment scans:'bone age xray, mri scan', \\n'meat, seafood,leafygreens,diary,spinach, beef'\\n -------> may this details helps you,take care .\",\n",
       " 'wheezing, coughing and troubled breathing,chest pain -->pred_diseases: asthma;\\nanalgesics: metered dose inhalers, nebulizers;\\ntreatment scans:asthma therapy; \\ndiet:fruits and vegetables\\n  -------> may this details helps you,take care .']"
      ]
     },
     "execution_count": 47,
     "metadata": {},
     "output_type": "execute_result"
    }
   ],
   "source": [
    "sent_tokens[:2]\n"
   ]
  },
  {
   "cell_type": "code",
   "execution_count": 48,
   "id": "a54cf67e",
   "metadata": {},
   "outputs": [
    {
     "data": {
      "text/plain": [
       "['stopped', 'growth', ':', '--', '>']"
      ]
     },
     "execution_count": 48,
     "metadata": {},
     "output_type": "execute_result"
    }
   ],
   "source": [
    "word_tokens[:5]"
   ]
  },
  {
   "cell_type": "code",
   "execution_count": 49,
   "id": "c2749816",
   "metadata": {},
   "outputs": [],
   "source": [
    "lemmer = nltk.stem.WordNetLemmatizer()\n",
    "def LemTokens(tokens):\n",
    "    return [lemmer.lemmatize(token) for token in tokens]\n",
    "remove_punct_dict = dict((ord(punct), None) for punct in string.punctuation)\n",
    "def LemNormalize(text):\n",
    "    return LemTokens(nltk.word_tokenize(text.lower().translate(remove_punct_dict)))"
   ]
  },
  {
   "cell_type": "code",
   "execution_count": 50,
   "id": "75d3cc50",
   "metadata": {},
   "outputs": [],
   "source": [
    "Introduce_Ans = [\" \"]\n",
    "GREETING_INPUTS = (\"hello\", \"hi\",\"hiii\",\"hii\",\"hiiii\",\"hiiii\", \"greetings\", \"sup\", \"what's up\",\"hey\",)\n",
    "GREETING_RESPONSES = [\"hi,are you suffering from any health issues?(Y/N)\", \"hey,are you having any health issues?(Y/N)\", \"hii there,are you having any health issues?(Y/N)\", \"hi there,are you having any health issues?(Y/N)\", \"hello,are you having any health issues?(Y/N)\", \"I am glad! You are talking to me,are you having any health issues?(Y/N)\"]\n",
    "Basic_Q = (\"yes\",\"y\")\n",
    "Basic_Ans = \"okay,tell me about your symptoms\"\n",
    "Basic_Om = (\"no\",\"n\")\n",
    "Basic_AnsM = \"thank you visit again\"\n",
    "fev=(\"iam suffering from fever\", \"i affected with fever\",\"i have fever\",\"fever\")\n",
    "feve_r=(\"which type of fever you have? and please mention your symptoms then we try to calculate your disease.\")\n"
   ]
  },
  {
   "cell_type": "code",
   "execution_count": 51,
   "id": "2c24104f",
   "metadata": {},
   "outputs": [],
   "source": [
    "# Checking for greetings\n",
    "def greeting(sentence):\n",
    "    \"\"\"If user's input is a greeting, return a greeting response\"\"\"\n",
    "    for word in sentence.split():\n",
    "        if word.lower() in GREETING_INPUTS:\n",
    "            return random.choice(GREETING_RESPONSES)\n",
    "\n",
    "# Checking for Basic_Q\n",
    "def basic(sentence):\n",
    "    for word in Basic_Q:\n",
    "        if sentence.lower() == word:\n",
    "            return Basic_Ans\n",
    "def fever(sentence):\n",
    "    for word in fev:\n",
    "        if sentence.lower() == word:\n",
    "            return feve_r\n",
    "\n",
    "# Checking for Basic_QM\n",
    "def basicM(sentence):\n",
    "    \"\"\"If user's input is a greeting, return a greeting response\"\"\"\n",
    "    for word in Basic_Om:\n",
    "        if sentence.lower() == word:\n",
    "            \n",
    "           \n",
    "            return Basic_AnsM\n",
    "# Checking for Introduce\n",
    "def IntroduceMe(sentence):\n",
    "    return random.choice(Introduce_Ans)"
   ]
  },
  {
   "cell_type": "code",
   "execution_count": 52,
   "id": "d58fcee8",
   "metadata": {},
   "outputs": [],
   "source": [
    "from sklearn.feature_extraction.text import TfidfVectorizer\n",
    "from sklearn.metrics.pairwise import cosine_similarity"
   ]
  },
  {
   "cell_type": "code",
   "execution_count": 53,
   "id": "8f591d9b",
   "metadata": {},
   "outputs": [],
   "source": [
    "\n",
    "# Generating response\n",
    "def response(user_response):\n",
    "    robo_response=''\n",
    "    sent_tokens.append(user_response)\n",
    "    TfidfVec = TfidfVectorizer(tokenizer=LemNormalize, stop_words='english')\n",
    "    tfidf = TfidfVec.fit_transform(sent_tokens)\n",
    "   \n",
    "    vals = cosine_similarity(tfidf[-1], tfidf)\n",
    "   \n",
    "    idx=vals.argsort()[0][-2]\n",
    "    flat = vals.flatten()\n",
    "    flat.sort()\n",
    "    req_tfidf = flat[-2]\n",
    "    if(req_tfidf==0):\n",
    "        robo_response=robo_response+\"I am sorry! I don't understand you\"\n",
    "        return robo_response\n",
    "    else:\n",
    "        robo_response = robo_response+sent_tokens[idx] \n",
    "        return robo_response\n",
    "      \n"
   ]
  },
  {
   "cell_type": "code",
   "execution_count": 54,
   "id": "13058b4f",
   "metadata": {},
   "outputs": [
    {
     "name": "stdout",
     "output_type": "stream",
     "text": [
      "hi\n",
      "ROBO: hey,are you having any health issues?(Y/N)\n",
      "y\n",
      "okay,tell me about your symptoms\n",
      "headache\n",
      "ROBO: high body temperature, severe headache and tiredness-->\n",
      "pred_diseases: 'fever', \n",
      "analgesics: 'paracetemol or aspirin', \n",
      "treatment scans:'tylenol, ibuprofen to treat stomach irritation',\n",
      "diet:  'fluid intake like gatorage, fruitjuices or milk'\n",
      "-------> may this details helps you,take care.\n",
      "bye\n",
      "ROBO: Bye! take care..\n"
     ]
    }
   ],
   "source": [
    "flag = True\n",
    "\n",
    "while(flag == True):\n",
    "    user_response = input()\n",
    "    user_response=user_response.lower()\n",
    "    keyword = \" module \"\n",
    "    keywordone = \" module\"\n",
    "    keywordsecond = \"module \"\n",
    "    \n",
    "    if(user_response!='bye'):\n",
    "        \n",
    "        if(user_response=='thanks' or user_response=='thank you' ):\n",
    "            flag=False\n",
    "            print(\"ROBO: You are welcome..\")\n",
    "            #return \"You are welcome..\"\n",
    "        elif(basicM(user_response)!=None):\n",
    "            print(basicM(user_response))\n",
    "            #return basicM(user_response)\n",
    "        else:\n",
    "            if(user_response.find(keyword) != -1 or user_response.find(keywordone) != -1 or user_response.find(keywordsecond) != -1):\n",
    "                print(\"ROBO: \",end=\"\")\n",
    "                print(responseone(user_response))\n",
    "                #return responseone(user_response)\n",
    "                sent_tokensone.remove(user_response)\n",
    "            elif(greeting(user_response)!=None):\n",
    "                print(\"ROBO: \"+greeting(user_response))\n",
    "                #return greeting(user_response)\n",
    "            elif(user_response.find(\"your name\") != -1 or user_response.find(\" your name\") != -1 or user_response.find(\"your name \") != -1 or user_response.find(\" your name \") != -1):\n",
    "                print(IntroduceMe(user_response))\n",
    "                #return IntroduceMe(user_response)\n",
    "            elif(basic(user_response)!=None):\n",
    "                print(basic(user_response))\n",
    "                #return basic(user_response)\n",
    "            elif(fever(user_response)!=None):\n",
    "                fever(user_response)\n",
    "                #return fever(user_response)\n",
    "            else:\n",
    "                print(\"ROBO: \",end=\"\")\n",
    "                print(response(user_response))\n",
    "                #return response(user_response)\n",
    "                sent_tokens.remove(user_response)\n",
    "                \n",
    "    else:\n",
    "        flag=False\n",
    "        print(\"ROBO: Bye! take care..\")\n",
    "#         print(\"Bot: Goodbye! Take care <3\")"
   ]
  },
  {
   "cell_type": "code",
   "execution_count": null,
   "id": "0831b07a",
   "metadata": {},
   "outputs": [],
   "source": []
  }
 ],
 "metadata": {
  "kernelspec": {
   "display_name": "Python 3 (ipykernel)",
   "language": "python",
   "name": "python3"
  },
  "language_info": {
   "codemirror_mode": {
    "name": "ipython",
    "version": 3
   },
   "file_extension": ".py",
   "mimetype": "text/x-python",
   "name": "python",
   "nbconvert_exporter": "python",
   "pygments_lexer": "ipython3",
   "version": "3.9.12"
  }
 },
 "nbformat": 4,
 "nbformat_minor": 5
}
